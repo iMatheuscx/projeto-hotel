{
  "nbformat": 4,
  "nbformat_minor": 0,
  "metadata": {
    "colab": {
      "provenance": []
    },
    "kernelspec": {
      "name": "python3",
      "display_name": "Python 3"
    },
    "language_info": {
      "name": "python"
    }
  },
  "cells": [
    {
      "cell_type": "code",
      "execution_count": 16,
      "metadata": {
        "colab": {
          "base_uri": "https://localhost:8080/"
        },
        "id": "VWBpPBVbtHxV",
        "outputId": "63375e23-0b59-4753-ad05-44608e6c84f1"
      },
      "outputs": [
        {
          "output_type": "stream",
          "name": "stdout",
          "text": [
            "Digite seu nome completo: Matheus Santos Silva\n",
            "Digite seu ano de nascimento: 2001\n",
            "Olá, Matheus Santos Silva! Você completou (ou completará) 23 anos em 2024.\n"
          ]
        }
      ],
      "source": [
        "import datetime\n",
        "\n",
        "def calc_ano_nasc():\n",
        "    while True:\n",
        "        try:\n",
        "            ano = int(input(\"Digite seu ano de nascimento: \"))\n",
        "            if 1922 <= ano <= 2021:\n",
        "                return ano\n",
        "            else:\n",
        "                print(\"Ano não permitido.\")\n",
        "        except ValueError:\n",
        "            print(\"Por favor, digite um ano válido.\")\n",
        "\n",
        "def calc_idade(ano_nasc):\n",
        "    ano_atual = datetime.datetime.now().year\n",
        "    return ano_atual - ano_nasc\n",
        "\n",
        "def aniversario():\n",
        "    nome = input(\"Digite seu nome completo: \")\n",
        "    ano_nasc = calc_ano_nasc()\n",
        "    idade = calc_idade(ano_nasc)\n",
        "    print(f\"Olá, {nome}! Você completou (ou completará) {idade} anos em 2024.\")\n",
        "\n",
        "if __name__ == \"__main__\":\n",
        "    aniversario()"
      ]
    }
  ]
}