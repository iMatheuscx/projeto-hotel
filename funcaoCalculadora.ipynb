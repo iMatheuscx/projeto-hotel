{
  "nbformat": 4,
  "nbformat_minor": 0,
  "metadata": {
    "colab": {
      "provenance": []
    },
    "kernelspec": {
      "name": "python3",
      "display_name": "Python 3"
    },
    "language_info": {
      "name": "python"
    }
  },
  "cells": [
    {
      "cell_type": "code",
      "execution_count": 23,
      "metadata": {
        "colab": {
          "base_uri": "https://localhost:8080/"
        },
        "id": "IN5aoQj6Hb6w",
        "outputId": "e9679058-6395-4aee-ff69-6735b3f28729"
      },
      "outputs": [
        {
          "output_type": "stream",
          "name": "stdout",
          "text": [
            "Resultado:  8\n",
            "Resultado:  6\n",
            "Resultado:  15\n",
            "Resultado:  Impossível dividir por zero\n",
            "Resultado:  4.5\n"
          ]
        }
      ],
      "source": [
        "def calculadora(num1, num2, operacao):\n",
        "   if operacao == 1:\n",
        "      return num1 + num2\n",
        "   elif operacao == 2:\n",
        "     return num1 - num2\n",
        "   elif operacao == 3:\n",
        "     return num1 * num2\n",
        "   elif operacao == 4:\n",
        "      if num2 != 0:\n",
        "         return num1 / num2\n",
        "      else:\n",
        "        return \"Impossível dividir por zero\"\n",
        "   else:\n",
        "      return 0\n",
        "\n",
        "# Códigos das operações: soma = 1, subtração = 2, multiplicação = 3, divisão = 4\n",
        "# Exemplos:\n",
        "resultado = calculadora(6, 2, 1)\n",
        "print(\"Resultado: \", resultado)\n",
        "\n",
        "resultado = calculadora(10, 4, 2)\n",
        "print(\"Resultado: \", resultado)\n",
        "\n",
        "resultado = calculadora(3, 5, 3)\n",
        "print(\"Resultado: \", resultado)\n",
        "\n",
        "resultado = calculadora(7, 0, 4)\n",
        "print(\"Resultado: \", resultado)\n",
        "\n",
        "resultado = calculadora(9, 2, 4)\n",
        "print(\"Resultado: \", resultado)"
      ]
    }
  ]
}