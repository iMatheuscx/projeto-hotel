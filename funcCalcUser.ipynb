{
  "nbformat": 4,
  "nbformat_minor": 0,
  "metadata": {
    "colab": {
      "provenance": []
    },
    "kernelspec": {
      "name": "python3",
      "display_name": "Python 3"
    },
    "language_info": {
      "name": "python"
    }
  },
  "cells": [
    {
      "cell_type": "code",
      "execution_count": 1,
      "metadata": {
        "colab": {
          "base_uri": "https://localhost:8080/"
        },
        "id": "uTAgAnGDdOO6",
        "outputId": "d6157fd0-d7b0-4d27-e08d-7e3b741a02ae"
      },
      "outputs": [
        {
          "output_type": "stream",
          "name": "stdout",
          "text": [
            "\n",
            "1: Soma\n",
            "2: Subtração\n",
            "3: Multiplicação\n",
            "4: Divisão\n",
            "0: Sair\n",
            "Digite o número para a operação desejada: 4\n",
            "Digite o primeiro valor: 6\n",
            "Digite o segundo valor: 2\n",
            "Resultado: 3.0\n",
            "\n",
            "1: Soma\n",
            "2: Subtração\n",
            "3: Multiplicação\n",
            "4: Divisão\n",
            "0: Sair\n",
            "Digite o número para a operação desejada: 7\n",
            "Essa opção não existe. Digite uma opção válida.\n",
            "\n",
            "1: Soma\n",
            "2: Subtração\n",
            "3: Multiplicação\n",
            "4: Divisão\n",
            "0: Sair\n",
            "Digite o número para a operação desejada: 4\n",
            "Digite o primeiro valor: 8\n",
            "Digite o segundo valor: 0\n",
            "Erro: divisão por zero!\n",
            "\n",
            "1: Soma\n",
            "2: Subtração\n",
            "3: Multiplicação\n",
            "4: Divisão\n",
            "0: Sair\n",
            "Digite o número para a operação desejada: 4\n",
            "Digite o primeiro valor: 0\n",
            "Digite o segundo valor: 10\n",
            "Resultado: 0.0\n",
            "\n",
            "1: Soma\n",
            "2: Subtração\n",
            "3: Multiplicação\n",
            "4: Divisão\n",
            "0: Sair\n",
            "Digite o número para a operação desejada: 0\n",
            "Calculadora encerrada.\n"
          ]
        }
      ],
      "source": [
        "def calculadora():\n",
        "    while True:\n",
        "        print(\"\\n1: Soma\")\n",
        "        print(\"2: Subtração\")\n",
        "        print(\"3: Multiplicação\")\n",
        "        print(\"4: Divisão\")\n",
        "        print(\"0: Sair\")\n",
        "\n",
        "        escolha = input(\"Digite o número para a operação desejada: \")\n",
        "\n",
        "        if escolha == '0':\n",
        "            print(\"Calculadora encerrada.\")\n",
        "            break\n",
        "        elif escolha in {'1', '2', '3', '4'}:\n",
        "            num1 = float(input(\"Digite o primeiro valor: \"))\n",
        "            num2 = float(input(\"Digite o segundo valor: \"))\n",
        "\n",
        "            if escolha == '1':\n",
        "                resultado = num1 + num2\n",
        "                print(\"Resultado:\", resultado)\n",
        "            elif escolha == '2':\n",
        "                resultado = num1 - num2\n",
        "                print(\"Resultado:\", resultado)\n",
        "            elif escolha == '3':\n",
        "                resultado = num1 * num2\n",
        "                print(\"Resultado:\", resultado)\n",
        "            elif escolha == '4':\n",
        "                if num2 != 0:\n",
        "                    resultado = num1 / num2\n",
        "                    print(\"Resultado:\", resultado)\n",
        "                else:\n",
        "                    print(\"Erro: divisão por zero!\")\n",
        "        else:\n",
        "            print(\"Essa opção não existe. Digite uma opção válida.\")\n",
        "\n",
        "calculadora()"
      ]
    }
  ]
}